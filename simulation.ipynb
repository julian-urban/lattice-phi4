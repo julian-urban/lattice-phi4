{
 "cells": [
  {
   "cell_type": "code",
   "execution_count": 19,
   "metadata": {},
   "outputs": [],
   "source": [
    "import numpy as np\n",
    "import copy\n",
    "from tqdm import tqdm"
   ]
  },
  {
   "cell_type": "code",
   "execution_count": 20,
   "metadata": {},
   "outputs": [],
   "source": [
    "def get_action(phi, k, l):\n",
    "    return np.sum(-2 * k * phi * (np.roll(phi, 1, 0) + np.roll(phi, 1, 1))\n",
    "                  + (1 - 2 * l) * phi**2 + l * phi**4)\n",
    "\n",
    "def get_drift(phi, k, l):\n",
    "    return (2 * k * (np.roll(phi, 1, 0) + np.roll(phi, -1, 0)\n",
    "                     + np.roll(phi, 1, 1) + np.roll(phi, -1, 1))\n",
    "            + 2 * phi * (2 * l * (1 - phi**2) - 1))\n",
    "\n",
    "def get_hamiltonian(chi, action):\n",
    "    return 0.5 * np.sum(chi**2) + action"
   ]
  },
  {
   "cell_type": "code",
   "execution_count": 21,
   "metadata": {},
   "outputs": [],
   "source": [
    "def hmc(phi_0, S_0, k, l, n_steps=100):\n",
    "    dt = 1 / n_steps\n",
    "\n",
    "    phi = phi_0\n",
    "    chi = np.random.randn(*phi.shape)\n",
    "    H_0 = get_hamiltonian(chi, S_0)\n",
    "\n",
    "    chi += 0.5 * dt * get_drift(phi, k, l)\n",
    "    for i in range(n_steps-1):\n",
    "        phi += dt * chi\n",
    "        chi += dt * get_drift(phi, k, l)\n",
    "    phi += dt * chi\n",
    "    chi += 0.5 * dt * get_drift(phi, k, l)\n",
    "\n",
    "    S = get_action(phi, k, l)\n",
    "    dH = get_hamiltonian(chi, S) - H_0\n",
    "\n",
    "    if dH > 0:\n",
    "        if np.random.rand() >= np.exp(-dH):\n",
    "            return phi_0, S_0, False\n",
    "    return phi, S, True"
   ]
  },
  {
   "cell_type": "code",
   "execution_count": 22,
   "metadata": {},
   "outputs": [],
   "source": [
    "N = 32\n",
    "k = 0.3\n",
    "l = 0.02\n",
    "\n",
    "phi = np.random.randn(N,N)\n",
    "S = get_action(phi, k, l)"
   ]
  },
  {
   "cell_type": "code",
   "execution_count": 23,
   "metadata": {},
   "outputs": [
    {
     "name": "stderr",
     "output_type": "stream",
     "text": [
      "100%|██████████| 1000/1000 [00:07<00:00, 141.48it/s]\n"
     ]
    }
   ],
   "source": [
    "for _ in tqdm(range(1000)):\n",
    "    phi, S, accepted = hmc(phi, S, k, l)"
   ]
  },
  {
   "cell_type": "code",
   "execution_count": 24,
   "metadata": {},
   "outputs": [
    {
     "name": "stderr",
     "output_type": "stream",
     "text": [
      "100%|██████████| 1000/1000 [00:07<00:00, 142.85it/s]\n"
     ]
    }
   ],
   "source": [
    "cfgs = []\n",
    "\n",
    "for i in tqdm(range(1000)):\n",
    "    phi, S, accepted = hmc(phi, S, k, l)\n",
    "    \n",
    "    if i % 10 == 0:\n",
    "        cfgs.append(copy.deepcopy(phi))\n",
    "        \n",
    "cfgs = np.array(cfgs)"
   ]
  },
  {
   "cell_type": "code",
   "execution_count": null,
   "metadata": {},
   "outputs": [],
   "source": []
  }
 ],
 "metadata": {
  "kernelspec": {
   "display_name": "Python 3",
   "language": "python",
   "name": "python3"
  },
  "language_info": {
   "codemirror_mode": {
    "name": "ipython",
    "version": 3
   },
   "file_extension": ".py",
   "mimetype": "text/x-python",
   "name": "python",
   "nbconvert_exporter": "python",
   "pygments_lexer": "ipython3",
   "version": "3.7.3"
  }
 },
 "nbformat": 4,
 "nbformat_minor": 2
}
